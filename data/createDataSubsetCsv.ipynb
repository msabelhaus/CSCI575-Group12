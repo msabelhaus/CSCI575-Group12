{
 "cells": [
  {
   "cell_type": "markdown",
   "id": "849f6f12",
   "metadata": {},
   "source": [
    "This notebook is used to read in the CSVs from the Google Landmark data from Kaggle, do some intial data exploration, and then subset the list of image URLs to only those for landmarks we wish to use.\n",
    "\n",
    "Inputs: files from https://www.kaggle.com/google/google-landmarks-dataset\n",
    "\n",
    "Output: train_subset.csv"
   ]
  },
  {
   "cell_type": "markdown",
   "id": "a889caf8",
   "metadata": {},
   "source": [
    "Begin by reading in all required libraries. You may have to install these."
   ]
  },
  {
   "cell_type": "code",
   "execution_count": 1,
   "id": "74d70b64",
   "metadata": {},
   "outputs": [],
   "source": [
    "import sys, multiprocessing, csv\n",
    "import numpy as np\n",
    "import pandas as pd\n",
    "import keras\n",
    "import cv2\n",
    "from matplotlib import pyplot as plt\n",
    "import os\n",
    "import random\n",
    "from urllib.request import urlopen\n",
    "from io import BytesIO\n",
    "from PIL import Image\n",
    "from sklearn.preprocessing import LabelEncoder\n",
    "\n",
    "\n",
    "# Deep Learning libraries\n",
    "import tensorflow.keras as keras\n",
    "from tensorflow.keras.applications import VGG19\n",
    "from tensorflow.keras.layers import *\n",
    "from tensorflow.keras import Sequential\n",
    "from tensorflow.keras.optimizers import SGD"
   ]
  },
  {
   "cell_type": "markdown",
   "id": "1bcec39f",
   "metadata": {},
   "source": [
    "Import the data sets. These are found in the 'google-data' folder. I downloaded these straight from Kaggle."
   ]
  },
  {
   "cell_type": "code",
   "execution_count": 2,
   "id": "5cff45a8",
   "metadata": {},
   "outputs": [],
   "source": [
    "df = pd.read_csv(\"google-data/train.csv\")\n",
    "num_classes = len(df[\"landmark_id\"].unique())\n",
    "num_data = len(df)\n",
    "\n",
    "df = df[df.landmark_id!='None'] # Removing any unlabeled images"
   ]
  },
  {
   "cell_type": "code",
   "execution_count": 3,
   "id": "090974ab",
   "metadata": {},
   "outputs": [
    {
     "data": {
      "text/html": [
       "<div>\n",
       "<style scoped>\n",
       "    .dataframe tbody tr th:only-of-type {\n",
       "        vertical-align: middle;\n",
       "    }\n",
       "\n",
       "    .dataframe tbody tr th {\n",
       "        vertical-align: top;\n",
       "    }\n",
       "\n",
       "    .dataframe thead th {\n",
       "        text-align: right;\n",
       "    }\n",
       "</style>\n",
       "<table border=\"1\" class=\"dataframe\">\n",
       "  <thead>\n",
       "    <tr style=\"text-align: right;\">\n",
       "      <th></th>\n",
       "      <th>id</th>\n",
       "      <th>url</th>\n",
       "      <th>landmark_id</th>\n",
       "    </tr>\n",
       "  </thead>\n",
       "  <tbody>\n",
       "    <tr>\n",
       "      <th>0</th>\n",
       "      <td>97c0a12e07ae8dd5</td>\n",
       "      <td>http://lh4.ggpht.com/-f8xYA5l4apw/RSziSQVaABI/...</td>\n",
       "      <td>6347</td>\n",
       "    </tr>\n",
       "    <tr>\n",
       "      <th>1</th>\n",
       "      <td>650c989dd3493748</td>\n",
       "      <td>https://lh5.googleusercontent.com/-PUnMrX7oOyA...</td>\n",
       "      <td>12519</td>\n",
       "    </tr>\n",
       "    <tr>\n",
       "      <th>2</th>\n",
       "      <td>05e63ca9b2cde1f4</td>\n",
       "      <td>http://mw2.google.com/mw-panoramio/photos/medi...</td>\n",
       "      <td>264</td>\n",
       "    </tr>\n",
       "    <tr>\n",
       "      <th>3</th>\n",
       "      <td>08672eddcb2b7c93</td>\n",
       "      <td>http://lh3.ggpht.com/-9fgSxDYwhHA/SMvGEoltKTI/...</td>\n",
       "      <td>13287</td>\n",
       "    </tr>\n",
       "    <tr>\n",
       "      <th>4</th>\n",
       "      <td>fc49cb32ef7f1e89</td>\n",
       "      <td>http://lh6.ggpht.com/-UGAXxvPbr98/S-jGZbyMIPI/...</td>\n",
       "      <td>4018</td>\n",
       "    </tr>\n",
       "  </tbody>\n",
       "</table>\n",
       "</div>"
      ],
      "text/plain": [
       "                 id                                                url  \\\n",
       "0  97c0a12e07ae8dd5  http://lh4.ggpht.com/-f8xYA5l4apw/RSziSQVaABI/...   \n",
       "1  650c989dd3493748  https://lh5.googleusercontent.com/-PUnMrX7oOyA...   \n",
       "2  05e63ca9b2cde1f4  http://mw2.google.com/mw-panoramio/photos/medi...   \n",
       "3  08672eddcb2b7c93  http://lh3.ggpht.com/-9fgSxDYwhHA/SMvGEoltKTI/...   \n",
       "4  fc49cb32ef7f1e89  http://lh6.ggpht.com/-UGAXxvPbr98/S-jGZbyMIPI/...   \n",
       "\n",
       "  landmark_id  \n",
       "0        6347  \n",
       "1       12519  \n",
       "2         264  \n",
       "3       13287  \n",
       "4        4018  "
      ]
     },
     "execution_count": 3,
     "metadata": {},
     "output_type": "execute_result"
    }
   ],
   "source": [
    "df.head()"
   ]
  },
  {
   "cell_type": "code",
   "execution_count": 4,
   "id": "c01af808",
   "metadata": {},
   "outputs": [
    {
     "name": "stdout",
     "output_type": "stream",
     "text": [
      "Size of training data: (1154202, 3)\n",
      "Number of unique classes: 14945\n"
     ]
    }
   ],
   "source": [
    "print(\"Size of training data:\", df.shape)\n",
    "print(\"Number of unique classes:\", num_classes)"
   ]
  },
  {
   "cell_type": "code",
   "execution_count": 5,
   "id": "20de909f",
   "metadata": {},
   "outputs": [
    {
     "name": "stdout",
     "output_type": "stream",
     "text": [
      "  landmark_id  count\n",
      "0        9633  48550\n",
      "1        6051  47825\n",
      "2        6599  21777\n",
      "3        9779  17601\n",
      "4        2061  12742\n",
      "5        5554  10302\n",
      "6        6651   8950\n",
      "7        5376   8893\n",
      "8        6696   8885\n",
      "9        4352   8689\n",
      "      landmark_id  count\n",
      "14934        7933      1\n",
      "14935        1913      1\n",
      "14936       10535      1\n",
      "14937        6423      1\n",
      "14938        9559      1\n",
      "14939        8309      1\n",
      "14940        5030      1\n",
      "14941        3022      1\n",
      "14942       14180      1\n",
      "14943        7977      1\n"
     ]
    }
   ],
   "source": [
    "data = pd.DataFrame(df['landmark_id'].value_counts())\n",
    "\n",
    "#index the data frame\n",
    "data.reset_index(inplace=True) \n",
    "data.columns=['landmark_id','count']\n",
    "print(data.head(10))\n",
    "print(data.tail(10))"
   ]
  },
  {
   "cell_type": "code",
   "execution_count": 6,
   "id": "9b29b520",
   "metadata": {},
   "outputs": [
    {
     "name": "stdout",
     "output_type": "stream",
     "text": [
      "count    14944.000000\n",
      "mean        77.235145\n",
      "std        675.090417\n",
      "min          1.000000\n",
      "25%          6.000000\n",
      "50%         13.000000\n",
      "75%         43.000000\n",
      "max      48550.000000\n",
      "Name: count, dtype: float64\n"
     ]
    },
    {
     "data": {
      "text/plain": [
       "Text(0, 0.5, 'Occurences')"
      ]
     },
     "execution_count": 6,
     "metadata": {},
     "output_type": "execute_result"
    },
    {
     "data": {
      "image/png": "[encoded data removed]",
      "text/plain": [
       "<Figure size 432x288 with 1 Axes>"
      ]
     },
     "metadata": {
      "needs_background": "light"
     },
     "output_type": "display_data"
    }
   ],
   "source": [
    "print(data['count'].describe())#statistical data for the distribution\n",
    "plt.hist(data['count'],100,range = (0,8000),label = 'test')#Histogram of the distribution\n",
    "plt.xlabel(\"Amount of images\")\n",
    "plt.ylabel(\"Occurences\")"
   ]
  },
  {
   "cell_type": "code",
   "execution_count": 7,
   "id": "6a82db60",
   "metadata": {},
   "outputs": [
    {
     "name": "stdout",
     "output_type": "stream",
     "text": [
      "Amount of classes with less than or equal to five datapoints: 3592\n",
      "Amount of classes between five and 10 datapoints: 4421\n"
     ]
    }
   ],
   "source": [
    "print(\"Amount of classes with less than or equal to five datapoints:\", (data['count'].between(0,5)).sum()) \n",
    "print(\"Amount of classes between five and 10 datapoints:\", (data['count'].between(5,10)).sum())"
   ]
  },
  {
   "cell_type": "markdown",
   "id": "c5e83eda",
   "metadata": {},
   "source": [
    "It looks like the majority of classes have few occurances. Let's see how many images are left in our training set when we put a bound on the required number of images per class."
   ]
  },
  {
   "cell_type": "code",
   "execution_count": 8,
   "id": "34d858fe",
   "metadata": {},
   "outputs": [
    {
     "data": {
      "text/plain": [
       "8240"
      ]
     },
     "execution_count": 8,
     "metadata": {},
     "output_type": "execute_result"
    }
   ],
   "source": [
    "# Finding number of classes with more than 10 images\n",
    "above10 = data[data['count']>10]\n",
    "len(above10)"
   ]
  },
  {
   "cell_type": "code",
   "execution_count": 9,
   "id": "3a61b3c1",
   "metadata": {},
   "outputs": [
    {
     "data": {
      "text/plain": [
       "1116911"
      ]
     },
     "execution_count": 9,
     "metadata": {},
     "output_type": "execute_result"
    }
   ],
   "source": [
    "# Subsetting training data to images in classes with >10 images\n",
    "df_above10 = df[df['landmark_id'].isin(above10['landmark_id'])]\n",
    "len(df_above10)"
   ]
  },
  {
   "cell_type": "markdown",
   "id": "c875fbba",
   "metadata": {},
   "source": [
    "This is still over a million images, which is infeasible for us to use unless we want to use some cloud service and spend >20 hours downloading all the images (number taken from this article: https://medium.com/@abhinaya08/google-landmark-recognition-274aab3c71ae).\n",
    "\n",
    "To put in perspective how many classes have a huge number of images, we still have about 250k images when we restrict the traing dataset to those in classes with over 4,000 images. This would take around 6 hours to download. That is doable, but still annoying.\n"
   ]
  },
  {
   "cell_type": "markdown",
   "id": "a727dccc",
   "metadata": {},
   "source": [
    "### Subsetting images considerations\n",
    "\n",
    "Some thoughts on how to subset images:\n",
    "\n",
    "- Dealing with imbalanced data is annoying--having a training dataset with one class that has 100 images and another with 5000 images will lead to our classification model poorly predicting images of the former class. I vote we stick to classes with a somewhat equal amount of images. So for example we only keep images in classes where the number of images is something in the range of [750,1000].\n",
    "    \n",
    "- One option could be to take the first N instances of images in each class. So for example we keep all images in classes with over 100 images, but if the class has over 100 images, we only take the first 100 images from that class. That is a way of balancing our data, but personally I don't feel it's necessary since we have already a ton of classes in the example range I set above. It could also lead to unwanted bias in our results since we're arbitrarily removing images."
   ]
  },
  {
   "cell_type": "code",
   "execution_count": 10,
   "id": "1e53675d",
   "metadata": {},
   "outputs": [
    {
     "name": "stdout",
     "output_type": "stream",
     "text": [
      "78\n",
      "66040\n"
     ]
    }
   ],
   "source": [
    "# Subsetting the training data to fit the example range of (classes in [750,1000])\n",
    "\n",
    "exRange = data[data['count'].between(750,1000)]\n",
    "print(len(exRange))\n",
    "\n",
    "df_exRange = df[df['landmark_id'].isin(exRange['landmark_id'])]\n",
    "print(len(df_exRange))"
   ]
  },
  {
   "cell_type": "markdown",
   "id": "99511a24",
   "metadata": {},
   "source": [
    "We have 78 classes in which the number of images is in the range of (750,1000). This results in 66,040 images in total when we restrict the training data to only images in those classes. This is feasible."
   ]
  },
  {
   "cell_type": "markdown",
   "id": "ab5c574e",
   "metadata": {},
   "source": [
    "### Test data considerations\n",
    "\n",
    "Now an important thing to note is that test.csv contains UNLABELED data, as this dataset is used for a Kaggle competition and thus contestants are not given ground truth for the test samples.\n",
    "\n",
    "In fact the link that Mark provided from analyticsvidhya does not produce any test error at all--if you look at their code under the sentence \"Our next step is to test the model, let’s see the results of our trained landmark detection model:\", you'll see that they're predicting the training images to calculate the error.\n",
    "\n",
    "Because we do not have the ground truth of images in test.csv, we'll have to manually split our training data into training/validation/test sets. This is super easy and is actually kind of nice because we know for certain our test images are in the same classes as our training images."
   ]
  },
  {
   "cell_type": "markdown",
   "id": "d445262e",
   "metadata": {},
   "source": [
    "## Downloading images\n",
    "\n",
    "I want to make sure we can successfully download the 66,040 images we need. Based on my estimates this would still require some 10-14 GBs which my tiny mac cannot handle. I'm going to make the problem even smaller just to see if I can get the images donwloaded."
   ]
  },
  {
   "cell_type": "code",
   "execution_count": 11,
   "id": "c88ae25b",
   "metadata": {},
   "outputs": [
    {
     "name": "stdout",
     "output_type": "stream",
     "text": [
      "12\n",
      "10979\n"
     ]
    }
   ],
   "source": [
    "# Subsetting the training data to fit in an even SMALLER range of (900,950)\n",
    "\n",
    "smallRange = data[data['count'].between(900,950)]\n",
    "print(len(smallRange))\n",
    "\n",
    "df_smallRange = df[df['landmark_id'].isin(smallRange['landmark_id'])]\n",
    "print(len(df_smallRange))\n",
    "\n",
    "# This yields 12 classes and just over 10k images. Let's see if it works."
   ]
  },
  {
   "cell_type": "code",
   "execution_count": 13,
   "id": "a732609d",
   "metadata": {},
   "outputs": [],
   "source": [
    "# Checking to see where I am in my system\n",
    "# os.getcwd()"
   ]
  },
  {
   "cell_type": "code",
   "execution_count": 12,
   "id": "6791266f",
   "metadata": {},
   "outputs": [],
   "source": [
    "# Writing csv of this small subset of images\n",
    "df_smallRange.to_csv('google-data/train_subset.csv', index=False)"
   ]
  },
  {
   "cell_type": "markdown",
   "id": "73c86bd7",
   "metadata": {},
   "source": [
    "After running my modified version of the download file I was able to get 10,353 of the images. The rest were broken links. This took about 45 minutes to download and around 6GB of storage. If we want to use more images I'll definitely have to use a cloud system because I only have 4GB left on my computer."
   ]
  },
  {
   "cell_type": "code",
   "execution_count": null,
   "id": "991abd94",
   "metadata": {},
   "outputs": [],
   "source": []
  }
 ],
 "metadata": {
  "kernelspec": {
   "display_name": "Python 3 (ipykernel)",
   "language": "python",
   "name": "python3"
  },
  "language_info": {
   "codemirror_mode": {
    "name": "ipython",
    "version": 3
   },
   "file_extension": ".py",
   "mimetype": "text/x-python",
   "name": "python",
   "nbconvert_exporter": "python",
   "pygments_lexer": "ipython3",
   "version": "3.8.12"
  }
 },
 "nbformat": 4,
 "nbformat_minor": 5
}
