{
 "cells": [
  {
   "cell_type": "markdown",
   "id": "852f5ec9",
   "metadata": {},
   "source": [
    "This notebook is used to remove broken urls from the list of image urls. This step is necessary in order to correctly reference samples during training.\n",
    "It reads in the csv of subsetted image URLs, compares the image ids against those that were downloaded using $downloadImages.py$, removes URLs that do not exist in the downloaded folder, and then resaves the corrected CSV under another name.\n",
    "\n",
    "Input: train_subset.csv\n",
    "    \n",
    "Output: train_subset.csv (corrected)"
   ]
  },
  {
   "cell_type": "code",
   "execution_count": 10,
   "id": "bf2024b3",
   "metadata": {},
   "outputs": [],
   "source": [
    "# Packages\n",
    "import sys, multiprocessing, csv\n",
    "import numpy as np\n",
    "import pandas as pd\n",
    "import os"
   ]
  },
  {
   "cell_type": "code",
   "execution_count": 11,
   "id": "d2cf1002",
   "metadata": {},
   "outputs": [],
   "source": [
    "# Read in train_subset.csv\n",
    "df = pd.read_csv(\"google-data/train_subset.csv\")\n",
    "\n",
    "# Create list of all image ids in the original csv\n",
    "all_ids = df['id'].to_list()"
   ]
  },
  {
   "cell_type": "code",
   "execution_count": 12,
   "id": "0d1aa533",
   "metadata": {},
   "outputs": [
    {
     "data": {
      "text/plain": [
       "10979"
      ]
     },
     "execution_count": 12,
     "metadata": {},
     "output_type": "execute_result"
    }
   ],
   "source": [
    "len(df)"
   ]
  },
  {
   "cell_type": "code",
   "execution_count": 13,
   "id": "d67dbaba",
   "metadata": {},
   "outputs": [],
   "source": [
    "# Create list of image ids that were actually downloaded\n",
    "\n",
    "im_dir = os.listdir('google-data/images') # set path to your Images folder\n",
    "downloaded_ids = [s.strip('.jpg') for s in im_dir]"
   ]
  },
  {
   "cell_type": "code",
   "execution_count": 14,
   "id": "0d05afc5",
   "metadata": {},
   "outputs": [
    {
     "name": "stdout",
     "output_type": "stream",
     "text": [
      "10979\n",
      "10353\n"
     ]
    }
   ],
   "source": [
    "# Checking that we have more ids in the original csv than were downloaded\n",
    "print(len(all_ids))\n",
    "print(len(downloaded_ids))"
   ]
  },
  {
   "cell_type": "code",
   "execution_count": 16,
   "id": "d3c7d6fa",
   "metadata": {},
   "outputs": [],
   "source": [
    "# Find ids that are in all_ids but not downloaded_ids\n",
    "broken_ids = list(set(all_ids) - set(downloaded_ids))"
   ]
  },
  {
   "cell_type": "code",
   "execution_count": 19,
   "id": "216d0a49",
   "metadata": {},
   "outputs": [
    {
     "name": "stdout",
     "output_type": "stream",
     "text": [
      "626\n",
      "626\n"
     ]
    }
   ],
   "source": [
    "# Checking the math on this -- looks good\n",
    "print(len(broken_ids)) \n",
    "print(len(all_ids) - len(downloaded_ids))"
   ]
  },
  {
   "cell_type": "markdown",
   "id": "cc7fe292",
   "metadata": {},
   "source": [
    "As a final step, we remove the broken url image id's from train_subset and save it as our final data csv."
   ]
  },
  {
   "cell_type": "code",
   "execution_count": 20,
   "id": "6bb51517",
   "metadata": {},
   "outputs": [],
   "source": [
    "final_df = df[~df['id'].isin(broken_ids)]"
   ]
  },
  {
   "cell_type": "code",
   "execution_count": 22,
   "id": "d8f7ae1e",
   "metadata": {},
   "outputs": [
    {
     "data": {
      "text/plain": [
       "10353"
      ]
     },
     "execution_count": 22,
     "metadata": {},
     "output_type": "execute_result"
    }
   ],
   "source": [
    "len(final_df) # perfect"
   ]
  },
  {
   "cell_type": "code",
   "execution_count": 25,
   "id": "ffd310bf",
   "metadata": {},
   "outputs": [],
   "source": [
    "# Saving this under a new name\n",
    "final_df.to_csv('google-data/df_final.csv', index=False)"
   ]
  },
  {
   "cell_type": "code",
   "execution_count": null,
   "id": "4866fed7",
   "metadata": {},
   "outputs": [],
   "source": []
  }
 ],
 "metadata": {
  "kernelspec": {
   "display_name": "Python 3 (ipykernel)",
   "language": "python",
   "name": "python3"
  },
  "language_info": {
   "codemirror_mode": {
    "name": "ipython",
    "version": 3
   },
   "file_extension": ".py",
   "mimetype": "text/x-python",
   "name": "python",
   "nbconvert_exporter": "python",
   "pygments_lexer": "ipython3",
   "version": "3.8.12"
  }
 },
 "nbformat": 4,
 "nbformat_minor": 5
}
