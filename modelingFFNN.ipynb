{
 "cells": [
  {
   "cell_type": "markdown",
   "id": "bed8c873",
   "metadata": {},
   "source": [
    "The purpose of this notebook is to create a simple Feedforward neural network to use as a baseline landmark detection model. We intend to expand on these results with a CNN later on.\n",
    "\n",
    "Inputs:\n",
    "- CSV of image information: /data/google-data/df_final.csv\n",
    "- Images: all found in the folder /data/google-data/images\n",
    "        \n",
    "Outputs: unsure. Potentially may save the model if we decide to deploy this."
   ]
  },
  {
   "cell_type": "code",
   "execution_count": 2,
   "id": "eea990c3",
   "metadata": {},
   "outputs": [],
   "source": [
    "# Packages\n",
    "import sys, multiprocessing, csv\n",
    "import numpy as np\n",
    "import pandas as pd\n",
    "import keras\n",
    "import cv2\n",
    "from matplotlib import pyplot as plt\n",
    "import os\n",
    "import random\n",
    "from urllib.request import urlopen\n",
    "from io import BytesIO\n",
    "from PIL import Image\n",
    "from sklearn.preprocessing import LabelEncoder\n",
    "\n",
    "\n",
    "# Deep Learning libraries\n",
    "import tensorflow.keras as keras\n",
    "from tensorflow.keras.applications import VGG19\n",
    "from tensorflow.keras.layers import *\n",
    "from tensorflow.keras import Sequential\n",
    "from tensorflow.keras.optimizers import SGD"
   ]
  },
  {
   "cell_type": "code",
   "execution_count": 3,
   "id": "6c893460",
   "metadata": {},
   "outputs": [],
   "source": [
    "# Read in df\n",
    "df = pd.read_csv(\"data/google-data/df_final.csv\")"
   ]
  },
  {
   "cell_type": "code",
   "execution_count": 1,
   "id": "fbe49775",
   "metadata": {},
   "outputs": [],
   "source": [
    "# TODO create FFNN model..."
   ]
  },
  {
   "cell_type": "code",
   "execution_count": null,
   "id": "4cc52e6e",
   "metadata": {},
   "outputs": [],
   "source": []
  }
 ],
 "metadata": {
  "kernelspec": {
   "display_name": "Python 3 (ipykernel)",
   "language": "python",
   "name": "python3"
  },
  "language_info": {
   "codemirror_mode": {
    "name": "ipython",
    "version": 3
   },
   "file_extension": ".py",
   "mimetype": "text/x-python",
   "name": "python",
   "nbconvert_exporter": "python",
   "pygments_lexer": "ipython3",
   "version": "3.8.12"
  }
 },
 "nbformat": 4,
 "nbformat_minor": 5
}
